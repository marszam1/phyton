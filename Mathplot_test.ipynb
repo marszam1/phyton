{
  "nbformat": 4,
  "nbformat_minor": 0,
  "metadata": {
    "colab": {
      "name": "Mathplot test.ipynb",
      "provenance": [],
      "private_outputs": true,
      "mount_file_id": "1um_p-x6VBeSfgzHiZCuxBk8neGJfqjdR",
      "authorship_tag": "ABX9TyNn1OeBnEw2g7MnDkTOFEPl",
      "include_colab_link": true
    },
    "kernelspec": {
      "name": "python3",
      "display_name": "Python 3"
    }
  },
  "cells": [
    {
      "cell_type": "markdown",
      "metadata": {
        "id": "view-in-github",
        "colab_type": "text"
      },
      "source": [
        "<a href=\"https://colab.research.google.com/github/marszam1/phyton/blob/master/Mathplot_test.ipynb\" target=\"_parent\"><img src=\"https://colab.research.google.com/assets/colab-badge.svg\" alt=\"Open In Colab\"/></a>"
      ]
    },
    {
      "cell_type": "code",
      "metadata": {
        "id": "YTEyh-TGaSxM",
        "colab_type": "code",
        "colab": {}
      },
      "source": [
        "# %matplotlib notebook\n",
        "import numpy as np\n",
        "import matplotlib.pyplot as plt\n",
        "import matplotlib.transforms as trans\n",
        "\n",
        "\n",
        "x0, x1 = np.meshgrid(np.linspace(-2,2,100), np.linspace(-2, 2, 100))\n",
        "y =  np.sin(x0) ** 2 + np.cos(x1) ** 2\n",
        "\n",
        "plt.rcParams[\"figure.figsize\"] = (10,10)\n",
        "\n",
        "# ase = plt.gca().transData\n",
        "# rot = trans.Affine2D().rotate_deg(90)\n",
        "\n",
        "\n",
        "fig = plt.figure()\n",
        "ax = fig.add_subplot(111, projection='3d')\n",
        "\n",
        "ax.plot_surface(x0, x1, y)\n",
        "\n",
        "ax.set_xlabel('x0')\n",
        "ax.set_ylabel('x1')\n",
        "ax.set_zlabel('y')\n"
      ],
      "execution_count": 0,
      "outputs": []
    },
    {
      "cell_type": "markdown",
      "metadata": {
        "id": "Z52umqnZ2AAb",
        "colab_type": "text"
      },
      "source": [
        "# New Section"
      ]
    },
    {
      "cell_type": "markdown",
      "metadata": {
        "id": "HtMjJfEZ2A6p",
        "colab_type": "text"
      },
      "source": [
        "# New Section"
      ]
    },
    {
      "cell_type": "markdown",
      "metadata": {
        "id": "awIHVzsfad-w",
        "colab_type": "text"
      },
      "source": [
        "**To tylko **taki przyklad byl ,a  teraz sie zacznie na [powaznie](https://onet.pl)"
      ]
    }
  ]
}